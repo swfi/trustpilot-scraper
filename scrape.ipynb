{
 "cells": [
  {
   "cell_type": "code",
   "execution_count": 2,
   "metadata": {
    "collapsed": false
   },
   "outputs": [],
   "source": [
    "### Trustpilot data scraping module \n",
    "### Author: Hakim Khan\n",
    "\n",
    "## Imports\n",
    "\n",
    "import lxml.html as html\n",
    "import math\n",
    "import csv\n",
    "import time\n",
    "import requests"
   ]
  },
  {
   "cell_type": "code",
   "execution_count": 3,
   "metadata": {
    "collapsed": false
   },
   "outputs": [
    {
     "name": "stdout",
     "output_type": "stream",
     "text": [
      "Scraper set for http://www.trustpilot.com/review/www.skype.com - saving result to dataSkype.csv\n"
     ]
    }
   ],
   "source": [
    "## Configurations\n",
    "\n",
    "# Trustpilot review page\n",
    "basePage = 'http://www.trustpilot.com/review/'\n",
    "reviewSite = 'www.skype.com'\n",
    "reviewPage = basePage + reviewSite\n",
    "\n",
    "# Data file to save to\n",
    "datafile = 'dataSkype.csv'\n",
    "\n",
    "# Trustpilot default \n",
    "resultsPerPage = 20 \n",
    "\n",
    "print('Scraper set for ' + reviewPage + ' - saving result to ' + datafile)"
   ]
  },
  {
   "cell_type": "code",
   "execution_count": 4,
   "metadata": {
    "collapsed": false
   },
   "outputs": [
    {
     "name": "stderr",
     "output_type": "stream",
     "text": [
      "C:\\Users\\h.khalafi\\AppData\\Local\\Continuum\\Anaconda3\\lib\\site-packages\\requests\\packages\\urllib3\\connectionpool.py:843: InsecureRequestWarning: Unverified HTTPS request is being made. Adding certificate verification is strongly advised. See: https://urllib3.readthedocs.io/en/latest/advanced-usage.html#ssl-warnings\n",
      "  InsecureRequestWarning)\n"
     ]
    },
    {
     "name": "stdout",
     "output_type": "stream",
     "text": [
      "Found total of 23 pages to scrape\n"
     ]
    }
   ],
   "source": [
    "## Count amount of pages to scrape\n",
    "\n",
    "# Get page, skipping HTTPS as it gives certificate errors\n",
    "page = requests.get(reviewPage, verify=False)\n",
    "tree = html.fromstring(page.content)\n",
    "\n",
    "# Total amount of ratings\n",
    "ratingCount = tree.xpath('//span[@class=\"headline__review-count\"]')\n",
    "ratingCount = int(ratingCount[0].text.replace(',',''))\n",
    "\n",
    "# Amount of chunks to consider for displaying processing output \n",
    "# For ex. 10 means output progress for every 10th of the data\n",
    "tot_chunks = 20\n",
    "\n",
    "# Throttling to avoid spamming page with requests\n",
    "# With sleepTime seconds between every page request\n",
    "throttle = False\n",
    "sleepTime = 2\n",
    "\n",
    "# Total pages to scrape\n",
    "pages = math.ceil(ratingCount / resultsPerPage)\n",
    "print('Found total of ' + str(pages) + ' pages to scrape')"
   ]
  },
  {
   "cell_type": "code",
   "execution_count": 5,
   "metadata": {
    "collapsed": false
   },
   "outputs": [
    {
     "name": "stdout",
     "output_type": "stream",
     "text": [
      "Processing..\n",
      "Processed 22/452 ratings\n",
      "Processed 44/452 ratings\n",
      "Processed 66/452 ratings\n",
      "Processed 88/452 ratings\n",
      "Processed 110/452 ratings\n",
      "Processed 132/452 ratings\n",
      "Processed 154/452 ratings\n",
      "Processed 176/452 ratings\n",
      "Processed 198/452 ratings\n",
      "Processed 220/452 ratings\n",
      "Processed 242/452 ratings\n",
      "Processed 264/452 ratings\n",
      "Processed 286/452 ratings\n",
      "Processed 308/452 ratings\n",
      "Processed 330/452 ratings\n",
      "Processed 352/452 ratings\n",
      "Processed 374/452 ratings\n",
      "Processed 396/452 ratings\n",
      "Processed 418/452 ratings\n",
      "Processed 440/452 ratings\n",
      "Processed 452/452 ratings.. Finished!\n"
     ]
    }
   ],
   "source": [
    "## Main scraping section\n",
    "\n",
    "with open(datafile, 'w', newline='', encoding='utf8') as csvfile:\n",
    "    \n",
    "    # Tab delimited to allow for special characters\n",
    "    datawriter = csv.writer(csvfile, delimiter='\\t')\n",
    "    print('Processing..')\n",
    "    for i in range(1,pages+1):\n",
    "        \n",
    "        # Sleep if throttle enabled\n",
    "        if(throttle): time.sleep(sleepTime)\n",
    "\n",
    "        page = requests.get(reviewPage + '?page=' + str(i))\n",
    "        tree = html.fromstring(page.content)\n",
    "        \n",
    "        # Each item below scrapes a pages review titles, bodies, ratings and languages. \n",
    "        titles = tree.xpath('//a[@class=\"review-title-link\"]')\n",
    "        bodies = tree.xpath('//div[@class=\"review-body\"]')\n",
    "        ratings = tree.xpath('//div[@data-status]')\n",
    "        langs = tree.xpath(\"//h3[starts-with(@class, 'review-title')]\")\n",
    "        \n",
    "        for idx,e in enumerate(bodies):\n",
    "            \n",
    "            # Progress counting, outputs for every processed chunk\n",
    "            reviewNumber = idx + 20*(i-1) + 1\n",
    "            chunk = int(ratingCount / tot_chunks)\n",
    "            if(reviewNumber % chunk == 0): \n",
    "                print('Processed ' + str(reviewNumber) + '/'  + str(ratingCount) + ' ratings')\n",
    "            \n",
    "            # Title of comment\n",
    "            title = titles[idx].text_content()\n",
    "            \n",
    "            # Body of comment\n",
    "            body = e.text_content().strip()\n",
    "            \n",
    "            # The rating is the 5th from last element\n",
    "            rating = ratings[idx].get('data-status').split(' ')[-5] \n",
    "            \n",
    "            # Language is 2nd element of h3 tag\n",
    "            lang = langs[idx].get('class').split(' ')[1]\n",
    "            \n",
    "            datawriter.writerow([title,body,rating,lang])\n",
    "    print('Processed ' + str(ratingCount) + '/' + str(ratingCount) + ' ratings.. Finished!')"
   ]
  },
  {
   "cell_type": "code",
   "execution_count": null,
   "metadata": {
    "collapsed": true
   },
   "outputs": [],
   "source": []
  }
 ],
 "metadata": {
  "kernelspec": {
   "display_name": "Python 3",
   "language": "python",
   "name": "python3"
  },
  "language_info": {
   "codemirror_mode": {
    "name": "ipython",
    "version": 3
   },
   "file_extension": ".py",
   "mimetype": "text/x-python",
   "name": "python",
   "nbconvert_exporter": "python",
   "pygments_lexer": "ipython3",
   "version": "3.6.0"
  }
 },
 "nbformat": 4,
 "nbformat_minor": 0
}
